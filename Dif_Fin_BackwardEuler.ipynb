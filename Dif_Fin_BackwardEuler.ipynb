{
 "metadata": {
  "name": "",
  "signature": "sha256:a2cbfbddde11b5f9574677ee92da5da68b2da16da513d0e8d13711cfde52b1f1"
 },
 "nbformat": 3,
 "nbformat_minor": 0,
 "worksheets": [
  {
   "cells": [
    {
     "cell_type": "code",
     "collapsed": false,
     "input": [
      "# -*- coding: utf-8 -*-\n",
      "# <nbformat>3.0</nbformat>\n",
      "\n",
      "# <codecell>\n",
      "\n",
      "# coding: utf-8\n",
      "%matplotlib inline\n",
      "#Imprimir Rho - Borboletas\n",
      "import matplotlib\n",
      "import numpy as np\n",
      "import matplotlib.pyplot as plt\n",
      "from matplotlib import rc ## desnec?ess\u00e1rio\n",
      "matplotlib.rcParams['text.usetex'] = True\n",
      "matplotlib.rcParams.update({'font.size': 18})\n",
      "\n",
      "'''\n",
      "Diferen\u00e7as Finitas para Equa\u00e7\u00e3o do calor n\u00e3o-homog\u00eanea\n",
      "Duas popula\u00e7\u00f5es N, P (predador-presa), com resposta funcional (intera\u00e7\u00e3o) f_n e f_p\n",
      "'''\n",
      "\n",
      "#Parametros\n",
      "#D_n = 20\n",
      "#D_p = 4\n",
      "\n",
      "d_n = 0.1\n",
      "d_p = 0.01\n",
      "L = 1.0 #Se fez a mudan\u00e7a de vari\u00e1veis, s\u00f3 pode ser L = 1!!\n",
      "\n",
      "#Discretiza\u00e7\u00e3o\n",
      "M = 100 #espa\u00e7o\n",
      "N = 10000 #tempo\n",
      "Tmax = 1000.0"
     ],
     "language": "python",
     "metadata": {},
     "outputs": [],
     "prompt_number": 33
    },
    {
     "cell_type": "code",
     "collapsed": false,
     "input": [
      "# -------------------- Resposta funcional: Rosensweig-MacArthur\n",
      "#Par\u00e2metros, unidades originais (com base em Maciel, Kraenkel 2014)\n",
      "'''\n",
      "#Sem mud. variavel\n",
      "c = 1.0\n",
      "m = 0.1\n",
      "a = 1.0\n",
      "r = 2.0\n",
      "b = 1.0\n",
      "K = 5.0\n",
      "def f_p(n,p):\n",
      "    return c*a*p*n/(b+n) - m*p\n",
      "\n",
      "def f_n(n,p):\n",
      "    return r*n*(1 - n/K) - a*p*n/(b+n)\n",
      "'''\n",
      "#Fun\u00e7\u00e3o feita para o Backward Euler, n\u00e3o \u00e9 a resposta funcional!\n",
      "#OBS, N\u00c3O ACERTEI O PROBLEMA DAS RESPOSTAS FUNCIONAIS!\n",
      "#Com mud. variavel\n",
      "c = 1.0\n",
      "mu = 0.1\n",
      "gamma = 2.0\n",
      "kappa = 5.0\n",
      "def f_p(n,p):\n",
      "    return c*n/(1.0+n) - mu\n",
      "\n",
      "def f_n(n,p):\n",
      "    return gamma*(1 - n/kappa) - p/(1.0+n)\n",
      "'''\n",
      "# -------------------- Resposta funcional: Equa\u00e7\u00e3o do Calor \"pura\"\n",
      "def f_p(n,p):\n",
      "    return 0\n",
      "\n",
      "def f_n(n,p):\n",
      "    return 0\n",
      "'''"
     ],
     "language": "python",
     "metadata": {},
     "outputs": [
      {
       "metadata": {},
       "output_type": "pyout",
       "prompt_number": 11,
       "text": [
        "'\\n# -------------------- Resposta funcional: Equa\\xc3\\xa7\\xc3\\xa3o do Calor \"pura\"\\ndef f_p(n,p):\\n    return 0\\n\\ndef f_n(n,p):\\n    return 0\\n'"
       ]
      }
     ],
     "prompt_number": 11
    },
    {
     "cell_type": "code",
     "collapsed": false,
     "input": [
      "## Tri Diagonal Matrix Algorithm(a.k.a Thomas algorithm) solver\n",
      "def TDMAsolver(a, b, c, d):\n",
      "    '''\n",
      "    TDMA solver, a b c d can be NumPy array type or Python list type.\n",
      "    refer to http://en.wikipedia.org/wiki/Tridiagonal_matrix_algorithm\n",
      "    '''\n",
      "    nf = len(a)     # number of equations\n",
      "    ac, bc, cc, dc = map(np.array, (a, b, c, d))     # copy the array\n",
      "    for it in xrange(1, nf):\n",
      "        mc = ac[it]/bc[it-1]\n",
      "        bc[it] = bc[it] - mc*cc[it-1] \n",
      "        dc[it] = dc[it] - mc*dc[it-1]\n",
      "\n",
      "    xc = ac\n",
      "    xc[-1] = dc[-1]/bc[-1]\n",
      "\n",
      "    for il in xrange(nf-2, -1, -1):\n",
      "        xc[il] = (dc[il]-cc[il]*xc[il+1])/bc[il]\n",
      "\n",
      "    del bc, cc, dc  # delete variables from memory\n",
      "\n",
      "    return xc"
     ],
     "language": "python",
     "metadata": {},
     "outputs": [],
     "prompt_number": 5
    },
    {
     "cell_type": "code",
     "collapsed": false,
     "input": [
      "#inicialize as popula\u00e7\u00f5es\n",
      "u = np.zeros((M+1,N))\n",
      "v = np.zeros((M+1,N))\n",
      "#passos\n",
      "tau = 1.0*Tmax/N\n",
      "h = 1.0*L/M\n",
      "\n",
      "r_n = tau*d_n/(h*h)\n",
      "r_p = tau*d_p/(h*h)\n",
      "\n",
      "print(r_n,r_p)\n",
      "'''\n",
      "#Popula\u00e7\u00f5es iniciais - senoidal\n",
      "U_0 = 1.0\n",
      "V_0 = 1.0\n",
      "u[:,0] = U_0*np.sin(np.pi*np.linspace(0,L,M)/L)\n",
      "v[:,0] = V_0*np.sin(np.pi*np.linspace(0,L,M)/L)\n",
      "'''\n",
      "#Popula\u00e7\u00f5es iniciais - step function\n",
      "U_0 = 1.0\n",
      "V_0 = 1.0\n",
      "x = np.pi*np.linspace(0,L,M)\n",
      "for i in range(0,M):\n",
      "    if i >= 0.3*M and i < 0.7*M:\n",
      "        u[i,0] = U_0\n",
      "        v[i,0] = V_0\n",
      "#Contorno (Dirichlet)\n",
      "u[0,:] = np.zeros(N)\n",
      "u[-1,:] = np.zeros(N)\n",
      "v[0,:] = np.zeros(N)\n",
      "v[-1,:] = np.zeros(N)"
     ],
     "language": "python",
     "metadata": {},
     "outputs": [
      {
       "output_type": "stream",
       "stream": "stdout",
       "text": [
        "(100.00000000000001, 10.0)\n"
       ]
      }
     ],
     "prompt_number": 34
    },
    {
     "cell_type": "code",
     "collapsed": false,
     "input": [
      "#Discretiza\u00e7\u00e3o - Euler Backward (Impl\u00edcito)\n",
      "#Para C.C. Dirichlet, a matriz do sistema \u00e9 tridiagonal, veja: Numerical_PartialEquations.pdf\n",
      "\n",
      "an = np.full(M-1,-r_n)\n",
      "an[0] = 0\n",
      "cn = np.full(M-1,-r_n)\n",
      "cn[-1] = 0\n",
      "bn = np.full(M-1,1+2*r_n)\n",
      "\n",
      "ap = np.full(M-1,-r_p)\n",
      "ap[0] = 0\n",
      "cp = np.full(M-1,-r_p)\n",
      "cp[-1] = 0\n",
      "bp = np.full(M-1,1+2*r_p)\n",
      "\n",
      "#Para cada instante\n",
      "for n in range(1,N):\n",
      "    #jogue no solver\n",
      "    u[1:M,n] = TDMAsolver(an, bn - tau*f_n(u[1:M,n-1],v[1:M,n-1]), cn, u[1:M,n-1])\n",
      "    v[1:M,n] = TDMAsolver(ap, bp - tau*f_p(u[1:M,n-1],v[1:M,n-1]), cp, v[1:M,n-1])"
     ],
     "language": "python",
     "metadata": {},
     "outputs": [],
     "prompt_number": "*"
    },
    {
     "cell_type": "code",
     "collapsed": false,
     "input": [
      "plt.plot(np.linspace(0,L,M+1),v[:,-1])\n",
      "#plt.plot(np.linspace(0,L,M),v[:,0])"
     ],
     "language": "python",
     "metadata": {},
     "outputs": [
      {
       "metadata": {},
       "output_type": "pyout",
       "prompt_number": 21,
       "text": [
        "[<matplotlib.lines.Line2D at 0xa9f8e5cc>]"
       ]
      },
      {
       "metadata": {},
       "output_type": "display_data",
       "png": "[encoded data removed]",
       "text": [
        "<matplotlib.figure.Figure at 0xa9f976cc>"
       ]
      }
     ],
     "prompt_number": 21
    },
    {
     "cell_type": "code",
     "collapsed": false,
     "input": [
      "t = np.linspace(0,Tmax,N)\n",
      "plt.plot(t[-2000:],u[M/2,-2000:])\n",
      "plt.plot(t[-2000:],v[M/2,-2000:])\n",
      "#plt.plot(t[-1000:],v[M/2 - 1,-1000:])\n",
      "#plt.axis([t[-2000],t[-1],0,10])\n",
      "print(np.max(v[M/2,-2000:]))\n",
      "print(np.min(v[M/2,-2000:]))"
     ],
     "language": "python",
     "metadata": {},
     "outputs": [
      {
       "output_type": "stream",
       "stream": "stdout",
       "text": [
        "2.46499113816\n",
        "2.46499113816\n"
       ]
      },
      {
       "metadata": {},
       "output_type": "display_data",
       "png": "[encoded data removed]",
       "text": [
        "<matplotlib.figure.Figure at 0xa9fb926c>"
       ]
      }
     ],
     "prompt_number": 23
    }
   ],
   "metadata": {}
  }
 ]
}