{
 "metadata": {
  "name": "",
  "signature": "sha256:1cc892de62fe7218b699412c25d05f6126306204ab81f1d3009115a3fd802ec7"
 },
 "nbformat": 3,
 "nbformat_minor": 0,
 "worksheets": [
  {
   "cells": [
    {
     "cell_type": "code",
     "collapsed": false,
     "input": [
      "# -*- coding: utf-8 -*-\n",
      "# <nbformat>3.0</nbformat>\n",
      "\n",
      "# <codecell>\n",
      "\n",
      "# coding: utf-8\n",
      "%matplotlib inline\n",
      "#Imprimir Rho - Borboletas\n",
      "import matplotlib\n",
      "import numpy as np\n",
      "import matplotlib.pyplot as plt\n",
      "from matplotlib import rc ## desnec?ess\u00e1rio\n",
      "matplotlib.rcParams['text.usetex'] = True\n",
      "matplotlib.rcParams.update({'font.size': 18})\n",
      "\n",
      "'''\n",
      "Diferen\u00e7as Finitas para Equa\u00e7\u00e3o do calor n\u00e3o-homog\u00eanea\n",
      "Duas popula\u00e7\u00f5es N, P (predador-presa), com resposta funcional (intera\u00e7\u00e3o) f_n e f_p\n",
      "'''\n",
      "\n",
      "#Parametros\n",
      "#D_n = 20\n",
      "#D_p = 4\n",
      "\n",
      "d_n = 0.06\n",
      "d_p = 0.05\n",
      "L = 1.0 #Se fez a mudan\u00e7a de vari\u00e1veis, s\u00f3 pode ser L = 1!!\n",
      "\n",
      "#Discretiza\u00e7\u00e3o\n",
      "M = 80 #espa\u00e7o\n",
      "N = 1000000 #tempo\n",
      "Tmax = 1000.0"
     ],
     "language": "python",
     "metadata": {},
     "outputs": [],
     "prompt_number": 18
    },
    {
     "cell_type": "code",
     "collapsed": false,
     "input": [
      "# -------------------- Resposta funcional: Rosensweig-MacArthur\n",
      "#Par\u00e2metros, unidades originais (com base em Maciel, Kraenkel 2014)\n",
      "'''\n",
      "#Sem mud. variavel\n",
      "c = 1.0\n",
      "m = 0.1\n",
      "a = 1.0\n",
      "r = 2.0\n",
      "b = 1.0\n",
      "K = 5.0\n",
      "def f_p(n,p):\n",
      "    return c*a*p*n/(b+n) - m*p\n",
      "\n",
      "def f_n(n,p):\n",
      "    return r*n*(1 - n/K) - a*p*n/(b+n)\n",
      "'''\n",
      "#Com mud. variavel\n",
      "c = 1.0\n",
      "mu = 0.1\n",
      "gamma = 2.0\n",
      "kappa = 5.0\n",
      "def f_p(n,p):\n",
      "    return c*p*n/(1.0+n) - mu*p\n",
      "\n",
      "def f_n(n,p):\n",
      "    return gamma*n*(1 - n/kappa) - p*n/(1.0+n)\n",
      "'''\n",
      "# -------------------- Resposta funcional: Equa\u00e7\u00e3o do Calor \"pura\"\n",
      "def f_p(n,p):\n",
      "    return 0\n",
      "\n",
      "def f_n(n,p):\n",
      "    return 0\n",
      "'''"
     ],
     "language": "python",
     "metadata": {},
     "outputs": [
      {
       "metadata": {},
       "output_type": "pyout",
       "prompt_number": 4,
       "text": [
        "'\\n# -------------------- Resposta funcional: Equa\\xc3\\xa7\\xc3\\xa3o do Calor \"pura\"\\ndef f_p(n,p):\\n    return 0\\n\\ndef f_n(n,p):\\n    return 0\\n'"
       ]
      }
     ],
     "prompt_number": 4
    },
    {
     "cell_type": "code",
     "collapsed": false,
     "input": [
      "#inicialize as popula\u00e7\u00f5es\n",
      "u = np.zeros((M,N))\n",
      "v = np.zeros((M,N))\n",
      "#passos\n",
      "tau = 1.0*Tmax/N\n",
      "h = 1.0*L/M\n",
      "\n",
      "r_n = tau*d_n/(h*h)\n",
      "r_p = tau*d_p/(h*h) #Aparentemente esses r's precisam ser menores que 1/2 para estabilidade num\u00e9rica\n",
      "\n",
      "print(r_n,r_p)\n",
      "'''\n",
      "#Popula\u00e7\u00f5es iniciais - senoidal\n",
      "U_0 = 1.0\n",
      "V_0 = 1.0\n",
      "u[:,0] = U_0*np.sin(np.pi*np.linspace(0,L,M)/L)\n",
      "v[:,0] = V_0*np.sin(np.pi*np.linspace(0,L,M)/L)\n",
      "'''\n",
      "#Popula\u00e7\u00f5es iniciais - step function\n",
      "U_0 = 1.0\n",
      "V_0 = 1.0\n",
      "x = np.pi*np.linspace(0,L,M)\n",
      "for i in range(0,M):\n",
      "    if i >= 0.3*M and i < 0.7*M:\n",
      "        u[i,0] = U_0\n",
      "        v[i,0] = V_0\n",
      "\n",
      "\n",
      "#Contorno (Dirichlet)\n",
      "u[0,:] = np.zeros(N)\n",
      "u[-1,:] = np.zeros(N)\n",
      "v[0,:] = np.zeros(N)\n",
      "v[-1,:] = np.zeros(N)"
     ],
     "language": "python",
     "metadata": {},
     "outputs": [
      {
       "output_type": "stream",
       "stream": "stdout",
       "text": [
        "(0.38399999999999995, 0.31999999999999995)\n"
       ]
      }
     ],
     "prompt_number": 19
    },
    {
     "cell_type": "code",
     "collapsed": false,
     "input": [
      "#Discretiza\u00e7\u00e3o\n",
      "for n in range(0,N-1):\n",
      "    u[1:M-1,n+1] = u[1:M-1,n] + r_n*(u[0:M-2,n] - 2*u[1:M-1,n] + u[2:M+2,n]) + tau*f_n(u[1:M-1,n],v[1:M-1,n])\n",
      "    v[1:M-1,n+1] = v[1:M-1,n] + r_p*(v[0:M-2,n] - 2*v[1:M-1,n] + v[2:M+2,n]) + tau*f_p(u[1:M-1,n],v[1:M-1,n])"
     ],
     "language": "python",
     "metadata": {},
     "outputs": [],
     "prompt_number": 20
    },
    {
     "cell_type": "code",
     "collapsed": false,
     "input": [
      "plt.plot(np.linspace(0,L,M),u[:,-541])\n",
      "plt.plot(np.linspace(0,L,M),v[:,-541])"
     ],
     "language": "python",
     "metadata": {},
     "outputs": [
      {
       "metadata": {},
       "output_type": "pyout",
       "prompt_number": 23,
       "text": [
        "[<matplotlib.lines.Line2D at 0x7f00ddad1750>]"
       ]
      },
      {
       "metadata": {},
       "output_type": "display_data",
       "png": "[encoded data removed]",
       "text": [
        "<matplotlib.figure.Figure at 0x7f00ddad17d0>"
       ]
      }
     ],
     "prompt_number": 23
    },
    {
     "cell_type": "code",
     "collapsed": false,
     "input": [
      "t = np.linspace(0,Tmax,N)\n",
      "plt.plot(t[-100000:],u[M/2 - 1,-100000:])\n",
      "plt.plot(t[-100000:],v[M/2 - 1,-100000:])\n",
      "#plt.axis([t[-2000],t[-1],0,10])\n",
      "print(np.max(u[M/2 - 1,-100000:]))\n",
      "print(np.min(u[M/2 - 1,-100000:]))"
     ],
     "language": "python",
     "metadata": {},
     "outputs": [
      {
       "output_type": "stream",
       "stream": "stdout",
       "text": [
        "1.78975928942\n",
        "1.78975928942\n"
       ]
      },
      {
       "metadata": {},
       "output_type": "display_data",
       "png": "[encoded data removed]",
       "text": [
        "<matplotlib.figure.Figure at 0x7f00873d7390>"
       ]
      }
     ],
     "prompt_number": 25
    }
   ],
   "metadata": {}
  }
 ]
}