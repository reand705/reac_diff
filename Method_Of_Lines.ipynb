{
 "metadata": {
  "name": ""
 },
 "nbformat": 3,
 "nbformat_minor": 0,
 "worksheets": [
  {
   "cells": [
    {
     "cell_type": "code",
     "collapsed": false,
     "input": [
      "# -*- coding: utf-8 -*-\n",
      "# <nbformat>3.0</nbformat>\n",
      "\n",
      "# <codecell>\n",
      "\n",
      "# coding: utf-8\n",
      "%matplotlib inline\n",
      "#Imprimir Rho - Borboletas\n",
      "import matplotlib\n",
      "import numpy as np\n",
      "import scipy.integrate\n",
      "import matplotlib.pyplot as plt\n",
      "from matplotlib import rc ## desnec?ess\u00e1rio\n",
      "matplotlib.rcParams['text.usetex'] = True\n",
      "matplotlib.rcParams.update({'font.size': 18})\n",
      "\n",
      "'''\n",
      "Diferen\u00e7as Finitas para Equa\u00e7\u00e3o do calor n\u00e3o-homog\u00eanea\n",
      "Duas popula\u00e7\u00f5es N, P (predador-presa), com resposta funcional (intera\u00e7\u00e3o) f_n e f_p\n",
      "'''\n",
      "\n",
      "#Parametros\n",
      "#D_n = 20\n",
      "#D_p = 4\n",
      "\n",
      "d_n = 0.04\n",
      "d_p = 0.05\n",
      "L = 1.0 #Se fez a mudan\u00e7a de vari\u00e1veis, s\u00f3 pode ser L = 1!!\n",
      "\n",
      "#Discretiza\u00e7\u00e3o\n",
      "M = 101 #espa\u00e7o\n",
      "N = 5000 #tempo\n",
      "Tmax = 500.0"
     ],
     "language": "python",
     "metadata": {},
     "outputs": [],
     "prompt_number": 2
    },
    {
     "cell_type": "code",
     "collapsed": false,
     "input": [
      "# -------------------- Resposta funcional: Rosensweig-MacArthur\n",
      "#Par\u00e2metros, unidades originais (com base em Maciel, Kraenkel 2014)\n",
      "'''\n",
      "#Sem mud. variavel\n",
      "c = 1.0\n",
      "m = 0.1\n",
      "a = 1.0\n",
      "r = 2.0\n",
      "b = 1.0\n",
      "K = 5.0\n",
      "def f_p(n,p):\n",
      "    return c*a*p*n/(b+n) - m*p\n",
      "\n",
      "def f_n(n,p):\n",
      "    return r*n*(1 - n/K) - a*p*n/(b+n)\n",
      "'''\n",
      "#Fun\u00e7\u00e3o feita para o Backward Euler, n\u00e3o \u00e9 a resposta funcional!\n",
      "#OBS, N\u00c3O ACERTEI O PROBLEMA DAS RESPOSTAS FUNCIONAIS!\n",
      "#Com mud. variavel\n",
      "c = 1.0\n",
      "mu = 0.1\n",
      "gamma = 2.0\n",
      "kappa = 5.0\n",
      "def f_p(n,p):\n",
      "    return c*n*p/(1.0+n) - mu*p\n",
      "\n",
      "def f_n(n,p):\n",
      "    return gamma*n*(1 - n/kappa) - n*p/(1.0+n)\n",
      "'''\n",
      "# -------------------- Resposta funcional: Equa\u00e7\u00e3o do Calor \"pura\"\n",
      "def f_p(n,p):\n",
      "    return 0\n",
      "\n",
      "def f_n(n,p):\n",
      "    return 0\n",
      "'''"
     ],
     "language": "python",
     "metadata": {},
     "outputs": [
      {
       "metadata": {},
       "output_type": "pyout",
       "prompt_number": 3,
       "text": [
        "'\\n# -------------------- Resposta funcional: Equa\\xc3\\xa7\\xc3\\xa3o do Calor \"pura\"\\ndef f_p(n,p):\\n    return 0\\n\\ndef f_n(n,p):\\n    return 0\\n'"
       ]
      }
     ],
     "prompt_number": 3
    },
    {
     "cell_type": "code",
     "collapsed": false,
     "input": [
      "#inicialize as popula\u00e7\u00f5es\n",
      "def init():\n",
      "    \n",
      "    u0 = np.zeros(M)\n",
      "    v0 = np.zeros(M)\n",
      "    '''\n",
      "    #Popula\u00e7\u00f5es iniciais - senoidal\n",
      "    U_0 = 1.0\n",
      "    V_0 = 1.0\n",
      "    u[:,0] = U_0*np.sin(np.pi*np.linspace(0,L,M)/L)\n",
      "    v[:,0] = V_0*np.sin(np.pi*np.linspace(0,L,M)/L)\n",
      "    '''\n",
      "    #Popula\u00e7\u00f5es iniciais - step function\n",
      "    U_0 = 1.0\n",
      "    V_0 = 1.0\n",
      "    for i in range(0,M):\n",
      "        if i >= 0.3*M and i < 0.7*M:\n",
      "            u0[i] = U_0\n",
      "            v0[i] = V_0\n",
      "    \n",
      "    return u0,v0"
     ],
     "language": "python",
     "metadata": {},
     "outputs": [],
     "prompt_number": 4
    },
    {
     "cell_type": "code",
     "collapsed": false,
     "input": [
      "def ddt(y,t):\n",
      "    u = y[0:M]\n",
      "    v = y[M:]\n",
      "    \n",
      "    dudt = np.zeros(M)\n",
      "    dvdt = np.zeros(M)\n",
      "    \n",
      "    #discret\n",
      "    h = 1.0/(M-1)\n",
      "    \n",
      "    #c.contorno (Dirichlet)\n",
      "    u[0] = 0\n",
      "    v[0] = 0\n",
      "    u[-1] = 0\n",
      "    v[-1] = 0\n",
      "    \n",
      "    for m in range(1,M-1):\n",
      "        dudt[m] = d_n*(u[m+1] - 2*u[m] + u[m-1])/(h**2) + f_n(u[m],v[m])\n",
      "        dvdt[m] = d_p*(v[m+1] - 2*v[m] + v[m-1])/(h**2) + f_p(u[m],v[m])\n",
      "        \n",
      "    return np.r_[dudt,dvdt]"
     ],
     "language": "python",
     "metadata": {},
     "outputs": [],
     "prompt_number": 5
    },
    {
     "cell_type": "code",
     "collapsed": false,
     "input": [
      "#Integre um caso aqui\n",
      "t = np.linspace(0,Tmax,N)\n",
      "#pop inicial\n",
      "u0,v0 = init()\n",
      "y0 = np.r_[u0,v0]\n",
      "sol = scipy.integrate.odeint(ddt,y0,t, hmax=0.5)\n",
      "sol = np.array(sol)"
     ],
     "language": "python",
     "metadata": {},
     "outputs": [],
     "prompt_number": 51
    },
    {
     "cell_type": "code",
     "collapsed": false,
     "input": [
      "#plot no espa\u00e7o\n",
      "sol = np.load('Method_Of_Lines_dp=%.3f,dn=%.3f.npy' % (0.05,0.01))\n",
      "u = np.transpose(sol[:,0:M])\n",
      "v = np.transpose(sol[:,M:])\n",
      "x = np.linspace(0,1,M)\n",
      "plt.plot(x,u[:,-1])\n",
      "plt.plot(x,v[:,-1])"
     ],
     "language": "python",
     "metadata": {},
     "outputs": [
      {
       "metadata": {},
       "output_type": "pyout",
       "prompt_number": 82,
       "text": [
        "[<matplotlib.lines.Line2D at 0xa24d606c>]"
       ]
      },
      {
       "metadata": {},
       "output_type": "display_data",
       "png": "[encoded data removed]",
       "text": [
        "<matplotlib.figure.Figure at 0xa25ee32c>"
       ]
      }
     ],
     "prompt_number": 82
    },
    {
     "cell_type": "code",
     "collapsed": false,
     "input": [
      "#centro do patch no tempo\n",
      "sol = np.load('Method_Of_Lines_dp=%.3f,dn=%.3f.npy' % (0.05,0.01))\n",
      "u = np.transpose(sol[:,0:M])\n",
      "v = np.transpose(sol[:,M:])\n",
      "plt.plot(t,u[M/2,:])\n",
      "plt.plot(t,v[M/2,:])\n",
      "print(np.max(v[M/2,-1000:]))\n",
      "print(np.min(v[M/2,-1000:]))"
     ],
     "language": "python",
     "metadata": {},
     "outputs": [
      {
       "output_type": "stream",
       "stream": "stdout",
       "text": [
        "5.19547665718\n",
        "2.83036474576\n"
       ]
      },
      {
       "metadata": {},
       "output_type": "display_data",
       "png": "[encoded data removed]",
       "text": [
        "<matplotlib.figure.Figure at 0xa25dd02c>"
       ]
      }
     ],
     "prompt_number": 86
    },
    {
     "cell_type": "code",
     "collapsed": false,
     "input": [
      "#Fa\u00e7a para v\u00e1rios dp, dn\n",
      "DP = [0.01,0.05,0.1]\n",
      "DN = [0.0 + 0.005*i for i in range(0,41)]\n",
      "t = np.linspace(0,Tmax,N)\n",
      "#pop inicial\n",
      "u0,v0 = init()\n",
      "y0 = np.r_[u0,v0]\n",
      "for d_n in DN:\n",
      "    print(d_n)\n",
      "    for d_p in DP:\n",
      "        sol = scipy.integrate.odeint(ddt,y0,t, hmax=0.5)\n",
      "        sol = np.array(sol)\n",
      "        np.save('Method_Of_Lines_dp=%.3f,dn=%.3f' % (d_p,d_n),sol)"
     ],
     "language": "python",
     "metadata": {},
     "outputs": [
      {
       "output_type": "stream",
       "stream": "stdout",
       "text": [
        "0.0\n",
        "0.005"
       ]
      },
      {
       "output_type": "stream",
       "stream": "stdout",
       "text": [
        "\n",
        "0.01"
       ]
      },
      {
       "output_type": "stream",
       "stream": "stdout",
       "text": [
        "\n",
        "0.015"
       ]
      },
      {
       "output_type": "stream",
       "stream": "stdout",
       "text": [
        "\n",
        "0.02"
       ]
      },
      {
       "output_type": "stream",
       "stream": "stdout",
       "text": [
        "\n",
        "0.025"
       ]
      },
      {
       "output_type": "stream",
       "stream": "stdout",
       "text": [
        "\n",
        "0.03"
       ]
      },
      {
       "output_type": "stream",
       "stream": "stdout",
       "text": [
        "\n",
        "0.035"
       ]
      },
      {
       "output_type": "stream",
       "stream": "stdout",
       "text": [
        "\n",
        "0.04"
       ]
      },
      {
       "output_type": "stream",
       "stream": "stdout",
       "text": [
        "\n",
        "0.045"
       ]
      },
      {
       "output_type": "stream",
       "stream": "stdout",
       "text": [
        "\n",
        "0.05"
       ]
      },
      {
       "output_type": "stream",
       "stream": "stdout",
       "text": [
        "\n",
        "0.055"
       ]
      },
      {
       "output_type": "stream",
       "stream": "stdout",
       "text": [
        "\n",
        "0.06"
       ]
      },
      {
       "output_type": "stream",
       "stream": "stdout",
       "text": [
        "\n",
        "0.065"
       ]
      },
      {
       "output_type": "stream",
       "stream": "stdout",
       "text": [
        "\n",
        "0.07"
       ]
      },
      {
       "output_type": "stream",
       "stream": "stdout",
       "text": [
        "\n",
        "0.075"
       ]
      },
      {
       "output_type": "stream",
       "stream": "stdout",
       "text": [
        "\n",
        "0.08"
       ]
      },
      {
       "output_type": "stream",
       "stream": "stdout",
       "text": [
        "\n",
        "0.085"
       ]
      },
      {
       "output_type": "stream",
       "stream": "stdout",
       "text": [
        "\n",
        "0.09"
       ]
      },
      {
       "output_type": "stream",
       "stream": "stdout",
       "text": [
        "\n",
        "0.095"
       ]
      },
      {
       "output_type": "stream",
       "stream": "stdout",
       "text": [
        "\n",
        "0.1"
       ]
      },
      {
       "output_type": "stream",
       "stream": "stdout",
       "text": [
        "\n",
        "0.105"
       ]
      },
      {
       "output_type": "stream",
       "stream": "stdout",
       "text": [
        "\n",
        "0.11"
       ]
      },
      {
       "output_type": "stream",
       "stream": "stdout",
       "text": [
        "\n",
        "0.115"
       ]
      },
      {
       "output_type": "stream",
       "stream": "stdout",
       "text": [
        "\n",
        "0.12"
       ]
      },
      {
       "output_type": "stream",
       "stream": "stdout",
       "text": [
        "\n",
        "0.125"
       ]
      },
      {
       "output_type": "stream",
       "stream": "stdout",
       "text": [
        "\n",
        "0.13"
       ]
      },
      {
       "output_type": "stream",
       "stream": "stdout",
       "text": [
        "\n",
        "0.135"
       ]
      },
      {
       "output_type": "stream",
       "stream": "stdout",
       "text": [
        "\n",
        "0.14"
       ]
      },
      {
       "output_type": "stream",
       "stream": "stdout",
       "text": [
        "\n",
        "0.145"
       ]
      },
      {
       "output_type": "stream",
       "stream": "stdout",
       "text": [
        "\n",
        "0.15"
       ]
      },
      {
       "output_type": "stream",
       "stream": "stdout",
       "text": [
        "\n",
        "0.155"
       ]
      },
      {
       "output_type": "stream",
       "stream": "stdout",
       "text": [
        "\n",
        "0.16"
       ]
      },
      {
       "output_type": "stream",
       "stream": "stdout",
       "text": [
        "\n",
        "0.165"
       ]
      },
      {
       "output_type": "stream",
       "stream": "stdout",
       "text": [
        "\n",
        "0.17"
       ]
      },
      {
       "output_type": "stream",
       "stream": "stdout",
       "text": [
        "\n",
        "0.175"
       ]
      },
      {
       "output_type": "stream",
       "stream": "stdout",
       "text": [
        "\n",
        "0.18"
       ]
      },
      {
       "output_type": "stream",
       "stream": "stdout",
       "text": [
        "\n",
        "0.185"
       ]
      },
      {
       "output_type": "stream",
       "stream": "stdout",
       "text": [
        "\n",
        "0.19"
       ]
      },
      {
       "output_type": "stream",
       "stream": "stdout",
       "text": [
        "\n",
        "0.195"
       ]
      },
      {
       "output_type": "stream",
       "stream": "stdout",
       "text": [
        "\n",
        "0.2"
       ]
      },
      {
       "output_type": "stream",
       "stream": "stdout",
       "text": [
        "\n"
       ]
      }
     ],
     "prompt_number": 6
    },
    {
     "cell_type": "code",
     "collapsed": false,
     "input": [
      "#fa\u00e7a o gr\u00e1fico para a presa\n",
      "DP = [0.05]\n",
      "DN = [0.0 + 0.01*i for i in range(0,11)]\n",
      "plt.axis([0,0.20,0,10])\n",
      "for i in range(len(DP)):\n",
      "    maxu = []\n",
      "    minu = []\n",
      "    for j in range(len(DN)):\n",
      "        sol = np.load('Method_Of_Lines_dp=%.3f,dn=%.3f.npy' % (DP[i],DN[j]))\n",
      "        u = np.transpose(sol[:,0:100])\n",
      "        v = np.transpose(sol[:,100:])\n",
      "        maxu.append(np.max(v[M/2,-1000:]))\n",
      "        minu.append(np.min(v[M/2,-1000:]))\n",
      "    #presa\n",
      "    plt.plot(DN,maxu, color = (DP[i], DP[i]*10, DP[i]*10), label = DP[i])\n",
      "    plt.plot(DN,minu, color = (DP[i], DP[i]*10, DP[i]*10))\n",
      "plt.legend()\n",
      "plt.xlabel(r'$dn$')\n",
      "plt.ylabel(r'$u_{1/2}$')\n",
      "plt.title(r'$n$')"
     ],
     "language": "python",
     "metadata": {},
     "outputs": [
      {
       "metadata": {},
       "output_type": "pyout",
       "prompt_number": 67,
       "text": [
        "<matplotlib.text.Text at 0xa277d66c>"
       ]
      },
      {
       "metadata": {},
       "output_type": "display_data",
       "png": "[encoded data removed]",
       "text": [
        "<matplotlib.figure.Figure at 0xa26fde0c>"
       ]
      }
     ],
     "prompt_number": 67
    }
   ],
   "metadata": {}
  }
 ]
}