{
 "metadata": {
  "name": "",
  "signature": "sha256:a2cbfbddde11b5f9574677ee92da5da68b2da16da513d0e8d13711cfde52b1f1"
 },
 "nbformat": 3,
 "nbformat_minor": 0,
 "worksheets": [
  {
   "cells": [
    {
     "cell_type": "code",
     "collapsed": false,
     "input": [
      "# -*- coding: utf-8 -*-\n",
      "# <nbformat>3.0</nbformat>\n",
      "\n",
      "# <codecell>\n",
      "\n",
      "# coding: utf-8\n",
      "%matplotlib inline\n",
      "#Imprimir Rho - Borboletas\n",
      "import matplotlib\n",
      "import numpy as np\n",
      "import matplotlib.pyplot as plt\n",
      "from matplotlib import rc ## desnec?ess\u00e1rio\n",
      "matplotlib.rcParams['text.usetex'] = True\n",
      "matplotlib.rcParams.update({'font.size': 18})\n",
      "\n",
      "'''\n",
      "Diferen\u00e7as Finitas para Equa\u00e7\u00e3o do calor n\u00e3o-homog\u00eanea\n",
      "Duas popula\u00e7\u00f5es N, P (predador-presa), com resposta funcional (intera\u00e7\u00e3o) f_n e f_p\n",
      "'''\n",
      "\n",
      "#Parametros\n",
      "#D_n = 20\n",
      "#D_p = 4\n",
      "\n",
      "d_n = 0.04\n",
      "d_p = 0.01\n",
      "L = 1.0 #Se fez a mudan\u00e7a de vari\u00e1veis, s\u00f3 pode ser L = 1!!\n",
      "\n",
      "#Discretiza\u00e7\u00e3o\n",
      "M = 100 #espa\u00e7o\n",
      "N = 10000 #tempo\n",
      "Tmax = 1000.0"
     ],
     "language": "python",
     "metadata": {},
     "outputs": [],
     "prompt_number": 27
    },
    {
     "cell_type": "code",
     "collapsed": false,
     "input": [
      "# -------------------- Resposta funcional: Rosensweig-MacArthur\n",
      "#Par\u00e2metros, unidades originais (com base em Maciel, Kraenkel 2014)\n",
      "'''\n",
      "#Sem mud. variavel\n",
      "c = 1.0\n",
      "m = 0.1\n",
      "a = 1.0\n",
      "r = 2.0\n",
      "b = 1.0\n",
      "K = 5.0\n",
      "def f_p(n,p):\n",
      "    return c*a*p*n/(b+n) - m*p\n",
      "\n",
      "def f_n(n,p):\n",
      "    return r*n*(1 - n/K) - a*p*n/(b+n)\n",
      "'''\n",
      "#Fun\u00e7\u00e3o feita para o Backward Euler, n\u00e3o \u00e9 a resposta funcional!\n",
      "#OBS, N\u00c3O ACERTEI O PROBLEMA DAS RESPOSTAS FUNCIONAIS!\n",
      "#Com mud. variavel\n",
      "c = 1.0\n",
      "mu = 0.1\n",
      "gamma = 2.0\n",
      "kappa = 5.0\n",
      "def f_p(n,p):\n",
      "    return c*p*n/(1.0+n) - mu*p\n",
      "\n",
      "def f_n(n,p):\n",
      "    return gamma*n*(1 - n/kappa) - p*n/(1.0+n)\n",
      "'''\n",
      "# -------------------- Resposta funcional: Equa\u00e7\u00e3o do Calor \"pura\"\n",
      "def f_p(n,p):\n",
      "    return 0\n",
      "\n",
      "def f_n(n,p):\n",
      "    return 0\n",
      "'''"
     ],
     "language": "python",
     "metadata": {},
     "outputs": [
      {
       "metadata": {},
       "output_type": "pyout",
       "prompt_number": 45,
       "text": [
        "'\\n# -------------------- Resposta funcional: Equa\\xc3\\xa7\\xc3\\xa3o do Calor \"pura\"\\ndef f_p(n,p):\\n    return 0\\n\\ndef f_n(n,p):\\n    return 0\\n'"
       ]
      }
     ],
     "prompt_number": 45
    },
    {
     "cell_type": "code",
     "collapsed": false,
     "input": [
      "## Tri Diagonal Matrix Algorithm(a.k.a Thomas algorithm) solver\n",
      "def TDMAsolver(a, b, c, d):\n",
      "    '''\n",
      "    TDMA solver, a b c d can be NumPy array type or Python list type.\n",
      "    refer to http://en.wikipedia.org/wiki/Tridiagonal_matrix_algorithm\n",
      "    '''\n",
      "    nf = len(a)     # number of equations\n",
      "    ac, bc, cc, dc = map(np.array, (a, b, c, d))     # copy the array\n",
      "    for it in xrange(1, nf):\n",
      "        mc = ac[it]/bc[it-1]\n",
      "        bc[it] = bc[it] - mc*cc[it-1] \n",
      "        dc[it] = dc[it] - mc*dc[it-1]\n",
      "\n",
      "    xc = ac\n",
      "    xc[-1] = dc[-1]/bc[-1]\n",
      "\n",
      "    for il in xrange(nf-2, -1, -1):\n",
      "        xc[il] = (dc[il]-cc[il]*xc[il+1])/bc[il]\n",
      "\n",
      "    del bc, cc, dc  # delete variables from memory\n",
      "\n",
      "    return xc"
     ],
     "language": "python",
     "metadata": {},
     "outputs": [],
     "prompt_number": 3
    },
    {
     "cell_type": "code",
     "collapsed": false,
     "input": [
      "#inicialize as popula\u00e7\u00f5es\n",
      "u = np.zeros((M+1,N))\n",
      "v = np.zeros((M+1,N))\n",
      "#passos\n",
      "tau = 1.0*Tmax/N\n",
      "h = 1.0*L/M\n",
      "\n",
      "r_n = tau*d_n/(h*h)\n",
      "r_p = tau*d_p/(h*h)\n",
      "\n",
      "print(r_n,r_p)\n",
      "'''\n",
      "#Popula\u00e7\u00f5es iniciais - senoidal\n",
      "U_0 = 1.0\n",
      "V_0 = 1.0\n",
      "u[:,0] = U_0*np.sin(np.pi*np.linspace(0,L,M)/L)\n",
      "v[:,0] = V_0*np.sin(np.pi*np.linspace(0,L,M)/L)\n",
      "'''\n",
      "#Popula\u00e7\u00f5es iniciais - step function\n",
      "U_0 = 1.0\n",
      "V_0 = 1.0\n",
      "x = np.pi*np.linspace(0,L,M)\n",
      "for i in range(0,M):\n",
      "    if i >= 0.3*M and i < 0.7*M:\n",
      "        u[i,0] = U_0\n",
      "        v[i,0] = V_0\n",
      "#Contorno (Dirichlet)\n",
      "u[0,:] = np.zeros(N)\n",
      "u[-1,:] = np.zeros(N)\n",
      "v[0,:] = np.zeros(N)\n",
      "v[-1,:] = np.zeros(N)"
     ],
     "language": "python",
     "metadata": {},
     "outputs": [
      {
       "output_type": "stream",
       "stream": "stdout",
       "text": [
        "(100.00000000000001, 50.00000000000001)\n"
       ]
      }
     ],
     "prompt_number": 4
    },
    {
     "cell_type": "code",
     "collapsed": false,
     "input": [
      "#Discretiza\u00e7\u00e3o - Euler Backward (Impl\u00edcito)\n",
      "#Para C.C. Dirichlet, a matriz do sistema \u00e9 tridiagonal, veja: Numerical_PartialEquations.pdf\n",
      "\n",
      "an = np.full(M-1,-r_n)\n",
      "an[0] = 0\n",
      "cn = np.full(M-1,-r_n)\n",
      "cn[-1] = 0\n",
      "bn = np.full(M-1,1+2*r_n)\n",
      "\n",
      "ap = np.full(M-1,-r_p)\n",
      "ap[0] = 0\n",
      "cp = np.full(M-1,-r_p)\n",
      "cp[-1] = 0\n",
      "bp = np.full(M-1,1+2*r_p)\n",
      "\n",
      "#Para cada instante\n",
      "for n in range(1,N):\n",
      "    #jogue no solver\n",
      "    u[1:M,n] = TDMAsolver(an, bn, cn, u[1:M,n-1] + tau*f_n(u[1:M,n-1],v[1:M,n-1]))\n",
      "    v[1:M,n] = TDMAsolver(ap, bp, cp, v[1:M,n-1] + tau*f_p(u[1:M,n-1],v[1:M,n-1]))"
     ],
     "language": "python",
     "metadata": {},
     "outputs": [],
     "prompt_number": 46
    },
    {
     "cell_type": "code",
     "collapsed": false,
     "input": [
      "tau*f_p(u[1:M,1],v[1:M,0])"
     ],
     "language": "python",
     "metadata": {},
     "outputs": [
      {
       "metadata": {},
       "output_type": "pyout",
       "prompt_number": 42,
       "text": [
        "array([-0.00928373, -0.00857204, -0.00785939, -0.00714044, -0.00641009,\n",
        "       -0.00566338, -0.00489547, -0.00410166, -0.00327738, -0.00241815,\n",
        "       -0.00151959, -0.00057748,  0.00041227,  0.00145359,  0.00255019,\n",
        "        0.00370554,  0.00492282,  0.00620489,  0.00755418,  0.0089727 ,\n",
        "        0.01046191,  0.01202271,  0.01365535,  0.01535938,  0.01713361,\n",
        "        0.01897603,  0.02088385,  0.02285341,  0.02488025,  0.02695906,\n",
        "        0.02873026,  0.0302489 ,  0.0315576 ,  0.03268988,  0.03367238,\n",
        "        0.03452654,  0.03526976,  0.03591627,  0.03647776,  0.03696389,\n",
        "        0.03738267,  0.03774073,  0.03804352,  0.03829555,  0.03850044,\n",
        "        0.0386611 ,  0.03877976,  0.03885803,  0.03889699,  0.03889716,\n",
        "        0.03885855,  0.03878062,  0.03866233,  0.03850206,  0.03829757,\n",
        "        0.03804597,  0.03774365,  0.0373861 ,  0.03696789,  0.03648238,\n",
        "        0.0359216 ,  0.0352759 ,  0.0345336 ,  0.03368049,  0.03269921,\n",
        "        0.03156837,  0.03026136,  0.02874476,  0.02697602,  0.02490022,\n",
        "        0.02287682,  0.02091114,  0.01900771,  0.01717023,  0.01540156,\n",
        "        0.01370375,  0.01207806,  0.01052502,  0.00904444,  0.00763552,\n",
        "        0.00629687,  0.0050266 ,  0.00382238,  0.00268148,  0.00160085,\n",
        "        0.00057717, -0.00039311, -0.00131373, -0.00218858, -0.00302165,\n",
        "       -0.00381707, -0.00457903, -0.00531178, -0.00601969, -0.00670717,\n",
        "       -0.00737872, -0.00803897, -0.00869264, -0.00934462])"
       ]
      }
     ],
     "prompt_number": 42
    },
    {
     "cell_type": "code",
     "collapsed": false,
     "input": [
      "plt.plot(np.linspace(0,L,M+1),v[:,-1])\n",
      "#plt.plot(np.linspace(0,L,M),v[:,0])"
     ],
     "language": "python",
     "metadata": {},
     "outputs": [
      {
       "metadata": {},
       "output_type": "pyout",
       "prompt_number": 47,
       "text": [
        "[<matplotlib.lines.Line2D at 0xa9cafc4c>]"
       ]
      },
      {
       "metadata": {},
       "output_type": "display_data",
       "png": "[encoded data removed]",
       "text": [
        "<matplotlib.figure.Figure at 0xaa07ac6c>"
       ]
      }
     ],
     "prompt_number": 47
    },
    {
     "cell_type": "code",
     "collapsed": false,
     "input": [
      "t = np.linspace(0,Tmax,N)\n",
      "plt.plot(t,u[M/2,:])\n",
      "#plt.plot(t[-1000:],v[M/2 - 1,-1000:])\n",
      "#plt.axis([t[-2000],t[-1],0,10])\n",
      "print(np.max(u[M/2,-2000:]))\n",
      "print(np.min(u[M/2,-2000:]))"
     ],
     "language": "python",
     "metadata": {},
     "outputs": [
      {
       "output_type": "stream",
       "stream": "stdout",
       "text": [
        "1.73427540125\n",
        "1.73427540125\n"
       ]
      },
      {
       "metadata": {},
       "output_type": "display_data",
       "png": "[encoded data removed]",
       "text": [
        "<matplotlib.figure.Figure at 0xa9da684c>"
       ]
      }
     ],
     "prompt_number": 48
    },
    {
     "cell_type": "code",
     "collapsed": false,
     "input": [],
     "language": "python",
     "metadata": {},
     "outputs": []
    }
   ],
   "metadata": {}
  }
 ]
}