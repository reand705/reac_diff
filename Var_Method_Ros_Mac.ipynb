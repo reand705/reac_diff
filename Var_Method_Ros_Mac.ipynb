{
 "metadata": {
  "name": ""
 },
 "nbformat": 3,
 "nbformat_minor": 0,
 "worksheets": [
  {
   "cells": [
    {
     "cell_type": "code",
     "collapsed": false,
     "input": [
      "# -*- coding: utf-8 -*-\n",
      "# <nbformat>3.0</nbformat>\n",
      "\n",
      "# <codecell>\n",
      "\n",
      "# coding: utf-8\n",
      "%matplotlib inline\n",
      "#Imprimir Rho - Borboletas\n",
      "import matplotlib\n",
      "import scipy.integrate\n",
      "from scipy.stats import norm\n",
      "import numpy as np\n",
      "import matplotlib.pyplot as plt\n",
      "from matplotlib import rc ## desnecess\u00e1rio\n",
      "matplotlib.rcParams['text.usetex'] = True\n",
      "matplotlib.rcParams.update({'font.size': 18})"
     ],
     "language": "python",
     "metadata": {},
     "outputs": [],
     "prompt_number": 1
    },
    {
     "cell_type": "code",
     "collapsed": false,
     "input": [
      "#Par\u00e2metros\n",
      "gamma = 2.0\n",
      "c = 1.0\n",
      "kappa = 5.0\n",
      "mu = 0.1\n",
      "dp = 0.01\n",
      "dn = 0.01\n",
      "\n",
      "#Discret tempo\n",
      "Tmax = 100\n",
      "N = 1000"
     ],
     "language": "python",
     "metadata": {},
     "outputs": [],
     "prompt_number": 95
    },
    {
     "cell_type": "code",
     "collapsed": false,
     "input": [
      "#Fun\u00e7\u00e3o que \u00e9 a integral de zero a pi de\n",
      "\n",
      "#sin\u00b3(x)/pi*(1 + A*sin(x)\n",
      "\n",
      "def f(A):\n",
      "    #colocar um caso para A aprox zero!\n",
      "    if 0.0 < A and A < 1.0:\n",
      "        return -2.0/(np.pi*(A**2)) + 1.0/(2*A) - (np.sqrt(1/(1 - A**2)) - 1)/(A**3)  + 2*np.arctan(A/(np.sqrt(1 - A**2)))/(np.pi*np.sqrt(1 - A**2)*A**3)\n",
      "    elif A == 1.0:\n",
      "        return 0.5*(3.0*np.pi - 8.0)/np.pi\n",
      "    elif 1 < A:\n",
      "        return -2.0/(np.pi*(A**2)) + 1.0/(A**3) + 1/(2*A) - 2*np.arccosh(A)/(np.pi*np.sqrt(A**2 - 1)*(A**3))"
     ],
     "language": "python",
     "metadata": {},
     "outputs": [],
     "prompt_number": 102
    },
    {
     "cell_type": "code",
     "collapsed": false,
     "input": [
      "#Testes da fun\u00e7\u00e3o f\n",
      "A = np.linspace(1,10,10)\n",
      "y = np.zeros(10)\n",
      "for i in range(0,len(A)):\n",
      "    y[i] = f(A[i]) \n",
      "#plt.plot(A,y)\n",
      "\n",
      "print(A)\n",
      "print(np.pi*y)\n",
      "print(f(1.00001))\n",
      "print(f(0.99999))"
     ],
     "language": "python",
     "metadata": {},
     "outputs": [
      {
       "output_type": "stream",
       "stream": "stdout",
       "text": [
        "[  1.   2.   3.   4.   5.   6.   7.   8.   9.  10.]\n",
        "[        nan  0.48801075  0.371567    0.30013718  0.25180496  0.2169101\n",
        "  0.19052556  0.16987289  0.15326541  0.13961956]\n",
        "0.226759408324\n",
        "0.226761502215\n"
       ]
      }
     ],
     "prompt_number": 30
    },
    {
     "cell_type": "code",
     "collapsed": false,
     "input": [
      "#Popula\u00e7\u00f5es Iniciais\n",
      "def A10(a10):\n",
      "    return a10\n",
      "def A20(a20):\n",
      "    return a20"
     ],
     "language": "python",
     "metadata": {},
     "outputs": [],
     "prompt_number": 35
    },
    {
     "cell_type": "code",
     "collapsed": false,
     "input": [
      "#lado direito das edos\n",
      "def ddt(y, t):\n",
      "    np.shape(y)\n",
      "    A1 = y[0]\n",
      "    A2 = y[1]\n",
      "    \n",
      "    dA1dt = (gamma - dn*np.pi*np.pi)*A1 - (8.0*gamma/(3.0*np.pi*kappa))*(A1**2) - 2.0*A1*A2*f(A1)\n",
      "    dA2dt = 2.0*c*A1*A2*f(A1) - (mu + dp*np.pi*np.pi)*A2\n",
      "    \n",
      "    return np.r_[dA1dt,dA2dt]"
     ],
     "language": "python",
     "metadata": {},
     "outputs": [],
     "prompt_number": 96
    },
    {
     "cell_type": "code",
     "collapsed": false,
     "input": [
      "#Integre aqui\n",
      "t = np.linspace(0,Tmax,N)\n",
      "#pop inicial\n",
      "y0 = np.r_[A10(1.00),A20(1.00)]\n",
      "sol = scipy.integrate.odeint(ddt,y0,t, hmax=0.5)\n",
      "sol = np.array(sol)"
     ],
     "language": "python",
     "metadata": {},
     "outputs": [
      {
       "output_type": "stream",
       "stream": "stderr",
       "text": [
        "-c:11: RuntimeWarning: invalid value encountered in arccosh\n",
        "-c:11: RuntimeWarning: invalid value encountered in sqrt\n"
       ]
      }
     ],
     "prompt_number": 100
    },
    {
     "cell_type": "code",
     "collapsed": false,
     "input": [
      "np.shape(sol)\n",
      "A1 = sol[:,0]\n",
      "A2 = sol[:,1]\n",
      "plt.plot(t,A1)\n",
      "plt.plot(t,A2)"
     ],
     "language": "python",
     "metadata": {},
     "outputs": [
      {
       "metadata": {},
       "output_type": "pyout",
       "prompt_number": 101,
       "text": [
        "[<matplotlib.lines.Line2D at 0xaa045b0c>]"
       ]
      },
      {
       "metadata": {},
       "output_type": "display_data",
       "png": "[encoded data removed]",
       "text": [
        "<matplotlib.figure.Figure at 0xaa04596c>"
       ]
      }
     ],
     "prompt_number": 101
    },
    {
     "cell_type": "code",
     "collapsed": false,
     "input": [],
     "language": "python",
     "metadata": {},
     "outputs": [
      {
       "ename": "TypeError",
       "evalue": "can't multiply sequence by non-int of type 'float'",
       "output_type": "pyerr",
       "traceback": [
        "\u001b[0;31m---------------------------------------------------------------------------\u001b[0m\n\u001b[0;31mTypeError\u001b[0m                                 Traceback (most recent call last)",
        "\u001b[0;32m<ipython-input-89-c81e3ab9ab94>\u001b[0m in \u001b[0;36m<module>\u001b[0;34m()\u001b[0m\n\u001b[1;32m      2\u001b[0m \u001b[0mA2\u001b[0m \u001b[0;34m=\u001b[0m \u001b[0my0\u001b[0m\u001b[0;34m[\u001b[0m\u001b[0;36m1\u001b[0m\u001b[0;34m]\u001b[0m\u001b[0;34m\u001b[0m\u001b[0m\n\u001b[1;32m      3\u001b[0m \u001b[0;34m\u001b[0m\u001b[0m\n\u001b[0;32m----> 4\u001b[0;31m \u001b[0mdA1dt\u001b[0m \u001b[0;34m=\u001b[0m \u001b[0;34m(\u001b[0m\u001b[0mgamma\u001b[0m \u001b[0;34m-\u001b[0m \u001b[0mdn\u001b[0m\u001b[0;34m*\u001b[0m\u001b[0mnp\u001b[0m\u001b[0;34m.\u001b[0m\u001b[0mpi\u001b[0m\u001b[0;34m*\u001b[0m\u001b[0mnp\u001b[0m\u001b[0;34m.\u001b[0m\u001b[0mpi\u001b[0m\u001b[0;34m)\u001b[0m\u001b[0;34m*\u001b[0m\u001b[0mA1\u001b[0m \u001b[0;34m-\u001b[0m \u001b[0;34m(\u001b[0m\u001b[0;36m8.0\u001b[0m\u001b[0;34m*\u001b[0m\u001b[0mgamma\u001b[0m\u001b[0;34m/\u001b[0m\u001b[0;34m(\u001b[0m\u001b[0;36m3.0\u001b[0m\u001b[0;34m*\u001b[0m\u001b[0mnp\u001b[0m\u001b[0;34m.\u001b[0m\u001b[0mpi\u001b[0m\u001b[0;34m*\u001b[0m\u001b[0mkappa\u001b[0m\u001b[0;34m)\u001b[0m\u001b[0;34m)\u001b[0m\u001b[0;34m*\u001b[0m\u001b[0;34m(\u001b[0m\u001b[0mA1\u001b[0m\u001b[0;34m**\u001b[0m\u001b[0;36m2\u001b[0m\u001b[0;34m)\u001b[0m \u001b[0;34m-\u001b[0m \u001b[0;36m2.0\u001b[0m\u001b[0;34m*\u001b[0m\u001b[0mA1\u001b[0m\u001b[0;34m*\u001b[0m\u001b[0mA2\u001b[0m\u001b[0;34m*\u001b[0m\u001b[0mf\u001b[0m\u001b[0;34m(\u001b[0m\u001b[0mA1\u001b[0m\u001b[0;34m)\u001b[0m\u001b[0;34m\u001b[0m\u001b[0m\n\u001b[0m\u001b[1;32m      5\u001b[0m \u001b[0mdA2dt\u001b[0m \u001b[0;34m=\u001b[0m \u001b[0;36m2\u001b[0m\u001b[0;34m*\u001b[0m\u001b[0mc\u001b[0m\u001b[0;34m*\u001b[0m\u001b[0mA1\u001b[0m\u001b[0;34m*\u001b[0m\u001b[0mA2\u001b[0m\u001b[0;34m*\u001b[0m\u001b[0mf\u001b[0m\u001b[0;34m(\u001b[0m\u001b[0mA1\u001b[0m\u001b[0;34m)\u001b[0m \u001b[0;34m-\u001b[0m \u001b[0;34m(\u001b[0m\u001b[0mmu\u001b[0m \u001b[0;34m+\u001b[0m \u001b[0mdp\u001b[0m\u001b[0;34m*\u001b[0m\u001b[0mnp\u001b[0m\u001b[0;34m.\u001b[0m\u001b[0mpi\u001b[0m\u001b[0;34m**\u001b[0m\u001b[0;36m2\u001b[0m\u001b[0;34m)\u001b[0m\u001b[0;34m*\u001b[0m\u001b[0mA2\u001b[0m\u001b[0;34m\u001b[0m\u001b[0m\n\u001b[1;32m      6\u001b[0m \u001b[0;32mprint\u001b[0m\u001b[0;34m(\u001b[0m\u001b[0mdA2dt\u001b[0m\u001b[0;34m)\u001b[0m\u001b[0;34m\u001b[0m\u001b[0m\n",
        "\u001b[0;31mTypeError\u001b[0m: can't multiply sequence by non-int of type 'float'"
       ]
      }
     ],
     "prompt_number": 89
    }
   ],
   "metadata": {}
  }
 ]
}