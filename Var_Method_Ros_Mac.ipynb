{
 "metadata": {
  "name": "",
  "signature": "sha256:079f18d4b2d4c85384b3cc6e82760d258d7b803620bba85ac996efea5d5a6321"
 },
 "nbformat": 3,
 "nbformat_minor": 0,
 "worksheets": [
  {
   "cells": [
    {
     "cell_type": "code",
     "collapsed": false,
     "input": [
      "# -*- coding: utf-8 -*-\n",
      "# <nbformat>3.0</nbformat>\n",
      "\n",
      "# <codecell>\n",
      "\n",
      "# coding: utf-8\n",
      "%matplotlib inline\n",
      "#Imprimir Rho - Borboletas\n",
      "import matplotlib\n",
      "import scipy.integrate\n",
      "from scipy.stats import norm\n",
      "import numpy as np\n",
      "import matplotlib.pyplot as plt\n",
      "from matplotlib import rc ## desnecess\u00e1rio\n",
      "matplotlib.rcParams['text.usetex'] = True\n",
      "matplotlib.rcParams.update({'font.size': 18})"
     ],
     "language": "python",
     "metadata": {},
     "outputs": [],
     "prompt_number": 20
    },
    {
     "cell_type": "code",
     "collapsed": false,
     "input": [
      "#Par\u00e2metros\n",
      "gamma = 2.0\n",
      "c = 1.0\n",
      "kappa = 5.0\n",
      "mu = 0.1\n",
      "dp = 0.05\n",
      "dn = 0.06\n",
      "\n",
      "#Discret tempo\n",
      "Tmax = 1000\n",
      "N = 10000"
     ],
     "language": "python",
     "metadata": {},
     "outputs": [],
     "prompt_number": 55
    },
    {
     "cell_type": "code",
     "collapsed": false,
     "input": [
      "#Fun\u00e7\u00e3o que \u00e9 a integral de zero a pi de\n",
      "\n",
      "#sin\u00b3(x)/pi*(1 + A*sin(x)\n",
      "epsilon = 1E-09\n",
      "def f(A):\n",
      "    if A < epsilon:\n",
      "        return 4.0/(3*np.pi)     \n",
      "    #colocar um caso para A aprox zero!\n",
      "    elif 0.0 < A and A < 1.0:\n",
      "        return -2.0/(np.pi*(A**2)) + 1.0/(2*A) - (np.sqrt(1/(1 - A**2)) - 1)/(A**3)  + 2*np.arctan(A/(np.sqrt(1 - A**2)))/(np.pi*np.sqrt(1 - A**2)*A**3)\n",
      "    elif np.abs(A - 1.0) < epsilon:\n",
      "        return 0.5*(3.0*np.pi - 8.0)/np.pi\n",
      "    elif 1 < A:\n",
      "        return -2.0/(np.pi*(A**2)) + 1.0/(A**3) + 1/(2*A) - 2*np.arccosh(A)/(np.pi*np.sqrt(A**2 - 1)*(A**3))"
     ],
     "language": "python",
     "metadata": {},
     "outputs": [],
     "prompt_number": 36
    },
    {
     "cell_type": "code",
     "collapsed": false,
     "input": [
      "#Testes da fun\u00e7\u00e3o f\n",
      "A = np.linspace(0,40,1000)\n",
      "y = np.zeros(1000)\n",
      "for i in range(0,len(A)):\n",
      "    y[i] = f(A[i]) \n",
      "plt.plot(A,np.pi*y)"
     ],
     "language": "python",
     "metadata": {},
     "outputs": [
      {
       "metadata": {},
       "output_type": "pyout",
       "prompt_number": 30,
       "text": [
        "[<matplotlib.lines.Line2D at 0x7f654888b590>]"
       ]
      },
      {
       "metadata": {},
       "output_type": "display_data",
       "png": "[encoded data removed]",
       "text": [
        "<matplotlib.figure.Figure at 0x7f6548903e90>"
       ]
      }
     ],
     "prompt_number": 30
    },
    {
     "cell_type": "code",
     "collapsed": false,
     "input": [
      "#Popula\u00e7\u00f5es Iniciais\n",
      "def A10(a10):\n",
      "    return a10\n",
      "def A20(a20):\n",
      "    return a20"
     ],
     "language": "python",
     "metadata": {},
     "outputs": [],
     "prompt_number": 5
    },
    {
     "cell_type": "code",
     "collapsed": false,
     "input": [
      "#lado direito das edos\n",
      "def ddt(y, t):\n",
      "    np.shape(y)\n",
      "    A1 = y[0]\n",
      "    A2 = y[1]\n",
      "    \n",
      "    dA1dt = (gamma - dn*np.pi*np.pi)*A1 - (8.0*gamma/(3.0*np.pi*kappa))*(A1**2) - 2.0*A1*A2*f(A1)\n",
      "    dA2dt = 2.0*c*A1*A2*f(A1) - (mu + dp*np.pi*np.pi)*A2\n",
      "    \n",
      "    return np.r_[dA1dt,dA2dt]"
     ],
     "language": "python",
     "metadata": {},
     "outputs": [],
     "prompt_number": 43
    },
    {
     "cell_type": "code",
     "collapsed": false,
     "input": [
      "#Integre aqui\n",
      "t = np.linspace(0,Tmax,N)\n",
      "#pop inicial\n",
      "y0 = np.r_[A10(1),A20(1)]\n",
      "sol = scipy.integrate.odeint(ddt,y0,t, hmax=0.5)\n",
      "sol = np.array(sol)"
     ],
     "language": "python",
     "metadata": {},
     "outputs": [],
     "prompt_number": 56
    },
    {
     "cell_type": "code",
     "collapsed": false,
     "input": [
      "np.shape(sol)\n",
      "A1 = sol[:,0]\n",
      "A2 = sol[:,1]\n",
      "plt.plot(t,A1)\n",
      "plt.plot(t,A2)"
     ],
     "language": "python",
     "metadata": {},
     "outputs": [
      {
       "metadata": {},
       "output_type": "pyout",
       "prompt_number": 57,
       "text": [
        "[<matplotlib.lines.Line2D at 0x7f6548565350>]"
       ]
      },
      {
       "metadata": {},
       "output_type": "display_data",
       "png": "[encoded data removed]",
       "text": [
        "<matplotlib.figure.Figure at 0x7f65486b4650>"
       ]
      }
     ],
     "prompt_number": 57
    },
    {
     "cell_type": "code",
     "collapsed": false,
     "input": [],
     "language": "python",
     "metadata": {},
     "outputs": [
      {
       "output_type": "stream",
       "stream": "stdout",
       "text": [
        "10.000000001\n"
       ]
      }
     ],
     "prompt_number": 15
    }
   ],
   "metadata": {}
  }
 ]
}